{
 "cells": [
  {
   "cell_type": "code",
   "execution_count": 9,
   "metadata": {},
   "outputs": [
    {
     "name": "stdout",
     "output_type": "stream",
     "text": [
      "2.10.0\n"
     ]
    }
   ],
   "source": [
    "# Import TensorFlow\n",
    "import tensorflow as tf\n",
    "import numpy as np\n",
    "print(tf.__version__)"
   ]
  },
  {
   "attachments": {},
   "cell_type": "markdown",
   "metadata": {},
   "source": [
    "# 🛠 00. TensorFlow Fundamentals Exercises\n",
    "- Create a vector, scalar, matrix and tensor with values of your choosing using tf.constant().\n",
    "- Find the shape, rank and size of the tensors you created in 1.\n",
    "- Create two tensors containing random values between 0 and 1 with shape [5, 300].\n",
    "- Multiply the two tensors you created in 3 using matrix multiplication.\n",
    "- Multiply the two tensors you created in 3 using dot product.\n",
    "- Create a tensor with random values between 0 and 1 with shape [224, 224, 3].\n",
    "- Find the min and max values of the tensor you created in 6 along the first axis.\n",
    "- Created a tensor with random values of shape [1, 224, 224, 3] then squeeze it to change the shape to [224, 224, 3].\n",
    "- Create a tensor with shape [10] using your own choice of values, then find the index which has the maximum value.\n",
    "- One-hot encode the tensor you created in 9."
   ]
  },
  {
   "cell_type": "code",
   "execution_count": 3,
   "metadata": {},
   "outputs": [],
   "source": [
    "scalar = tf.constant(8)\n",
    "vector = tf.constant([1,2,3])\n",
    "matrix = tf.constant([[1,2,3],[4,5,6]])\n",
    "tensor = tf.constant([[[1,2,3],[4,5,6]], [[7,8,9],[10,11,12]]])"
   ]
  },
  {
   "cell_type": "code",
   "execution_count": 5,
   "metadata": {},
   "outputs": [
    {
     "data": {
      "text/plain": [
       "(TensorShape([]),\n",
       " 0,\n",
       " <tf.Tensor: shape=(), dtype=int32, numpy=1>,\n",
       " <tf.Tensor: shape=(), dtype=int32, numpy=0>)"
      ]
     },
     "execution_count": 5,
     "metadata": {},
     "output_type": "execute_result"
    }
   ],
   "source": [
    "scalar.shape, scalar.ndim, tf.size(scalar), tf.rank(scalar)"
   ]
  },
  {
   "cell_type": "code",
   "execution_count": 6,
   "metadata": {},
   "outputs": [
    {
     "data": {
      "text/plain": [
       "(TensorShape([3]),\n",
       " 1,\n",
       " <tf.Tensor: shape=(), dtype=int32, numpy=3>,\n",
       " <tf.Tensor: shape=(), dtype=int32, numpy=1>)"
      ]
     },
     "execution_count": 6,
     "metadata": {},
     "output_type": "execute_result"
    }
   ],
   "source": [
    "vector.shape, vector.ndim, tf.size(vector), tf.rank(vector)"
   ]
  },
  {
   "cell_type": "code",
   "execution_count": 7,
   "metadata": {},
   "outputs": [
    {
     "data": {
      "text/plain": [
       "(TensorShape([2, 3]),\n",
       " 2,\n",
       " <tf.Tensor: shape=(), dtype=int32, numpy=6>,\n",
       " <tf.Tensor: shape=(), dtype=int32, numpy=2>)"
      ]
     },
     "execution_count": 7,
     "metadata": {},
     "output_type": "execute_result"
    }
   ],
   "source": [
    "matrix.shape, matrix.ndim, tf.size(matrix), tf.rank(matrix)"
   ]
  },
  {
   "cell_type": "code",
   "execution_count": 8,
   "metadata": {},
   "outputs": [
    {
     "data": {
      "text/plain": [
       "(TensorShape([2, 2, 3]),\n",
       " 3,\n",
       " <tf.Tensor: shape=(), dtype=int32, numpy=12>,\n",
       " <tf.Tensor: shape=(), dtype=int32, numpy=3>)"
      ]
     },
     "execution_count": 8,
     "metadata": {},
     "output_type": "execute_result"
    }
   ],
   "source": [
    "tensor.shape, tensor.ndim, tf.size(tensor), tf.rank(tensor)"
   ]
  },
  {
   "cell_type": "code",
   "execution_count": 12,
   "metadata": {},
   "outputs": [
    {
     "data": {
      "text/plain": [
       "(<tf.Tensor: shape=(5, 300), dtype=float32, numpy=\n",
       " array([[0.6645621 , 0.44100678, 0.3528825 , ..., 0.31410468, 0.7593535 ,\n",
       "         0.03699052],\n",
       "        [0.532024  , 0.29129946, 0.10571766, ..., 0.54052293, 0.31425726,\n",
       "         0.2200619 ],\n",
       "        [0.08404207, 0.03614604, 0.97732127, ..., 0.21516645, 0.9786098 ,\n",
       "         0.00726748],\n",
       "        [0.7396945 , 0.6653172 , 0.0787828 , ..., 0.7117733 , 0.07013571,\n",
       "         0.9409125 ],\n",
       "        [0.15861344, 0.12024033, 0.27218235, ..., 0.8824879 , 0.1432488 ,\n",
       "         0.44135118]], dtype=float32)>,\n",
       " TensorShape([5, 300]),\n",
       " <tf.Tensor: shape=(5, 300), dtype=float32, numpy=\n",
       " array([[0.68789124, 0.48447883, 0.9309944 , ..., 0.6920762 , 0.33180213,\n",
       "         0.9212563 ],\n",
       "        [0.27369928, 0.10631859, 0.6218617 , ..., 0.4382149 , 0.30427706,\n",
       "         0.51477313],\n",
       "        [0.00920248, 0.37280262, 0.8177401 , ..., 0.56786287, 0.49201214,\n",
       "         0.9892651 ],\n",
       "        [0.88608265, 0.08672249, 0.12160683, ..., 0.91770685, 0.72545695,\n",
       "         0.8280058 ],\n",
       "        [0.36690474, 0.9200133 , 0.9646884 , ..., 0.69012   , 0.7137332 ,\n",
       "         0.2584542 ]], dtype=float32)>,\n",
       " TensorShape([5, 300]))"
      ]
     },
     "execution_count": 12,
     "metadata": {},
     "output_type": "execute_result"
    }
   ],
   "source": [
    "tf.random.set_seed(42)\n",
    "tensor1 = tf.random.uniform(shape=(5,300))\n",
    "tensor2 = tf.random.uniform(shape=(5,300))\n",
    "\n",
    "tensor1, tensor1.shape, tensor2, tensor2.shape"
   ]
  },
  {
   "cell_type": "code",
   "execution_count": 15,
   "metadata": {},
   "outputs": [
    {
     "data": {
      "text/plain": [
       "(<tf.Tensor: shape=(5, 5), dtype=float32, numpy=\n",
       " array([[80.333435, 73.40498 , 77.15962 , 73.98368 , 80.90054 ],\n",
       "        [75.14635 , 68.80437 , 74.24302 , 71.841835, 75.602066],\n",
       "        [79.7594  , 75.64456 , 77.797585, 74.74873 , 80.559845],\n",
       "        [75.08526 , 69.06406 , 74.30776 , 72.27615 , 76.05668 ],\n",
       "        [85.0569  , 74.266266, 78.00686 , 74.88679 , 83.13417 ]],\n",
       "       dtype=float32)>,\n",
       " TensorShape([5, 5]))"
      ]
     },
     "execution_count": 15,
     "metadata": {},
     "output_type": "execute_result"
    }
   ],
   "source": [
    "dotpro = tensor1@tf.transpose(tensor2)\n",
    "dotpro, dotpro.shape"
   ]
  },
  {
   "cell_type": "code",
   "execution_count": 16,
   "metadata": {},
   "outputs": [
    {
     "data": {
      "text/plain": [
       "(<tf.Tensor: shape=(224, 224, 3), dtype=float32, numpy=\n",
       " array([[[0.7413678 , 0.62854624, 0.01738465],\n",
       "         [0.3431449 , 0.51063764, 0.3777541 ],\n",
       "         [0.07321596, 0.02137029, 0.2871771 ],\n",
       "         ...,\n",
       "         [0.98953485, 0.45382905, 0.2006687 ],\n",
       "         [0.6295223 , 0.4937899 , 0.01816809],\n",
       "         [0.95386636, 0.11542463, 0.85691285]],\n",
       " \n",
       "        [[0.78435016, 0.7826872 , 0.87936425],\n",
       "         [0.24906898, 0.3207239 , 0.10955775],\n",
       "         [0.543224  , 0.7151396 , 0.40334642],\n",
       "         ...,\n",
       "         [0.2445668 , 0.01746976, 0.9036933 ],\n",
       "         [0.02975535, 0.592268  , 0.9877522 ],\n",
       "         [0.36701274, 0.33112562, 0.5638567 ]],\n",
       " \n",
       "        [[0.15829337, 0.7288823 , 0.3366307 ],\n",
       "         [0.70792687, 0.16910625, 0.9429966 ],\n",
       "         [0.10120225, 0.5919596 , 0.8687303 ],\n",
       "         ...,\n",
       "         [0.28134012, 0.10011208, 0.37038183],\n",
       "         [0.77874243, 0.05421627, 0.4664607 ],\n",
       "         [0.2549187 , 0.7968637 , 0.83405185]],\n",
       " \n",
       "        ...,\n",
       " \n",
       "        [[0.32922816, 0.06343532, 0.23936498],\n",
       "         [0.42692196, 0.3615111 , 0.901929  ],\n",
       "         [0.8320831 , 0.21068895, 0.08272386],\n",
       "         ...,\n",
       "         [0.65110314, 0.40780962, 0.25967455],\n",
       "         [0.9018173 , 0.8245677 , 0.16757596],\n",
       "         [0.41854453, 0.19092035, 0.2523303 ]],\n",
       " \n",
       "        [[0.7064005 , 0.222404  , 0.82219553],\n",
       "         [0.8235872 , 0.76544905, 0.80999327],\n",
       "         [0.1100682 , 0.00520217, 0.6127168 ],\n",
       "         ...,\n",
       "         [0.98068535, 0.8958733 , 0.17706168],\n",
       "         [0.4252876 , 0.02087164, 0.496238  ],\n",
       "         [0.6599953 , 0.58505726, 0.7089884 ]],\n",
       " \n",
       "        [[0.90045786, 0.45803344, 0.9050728 ],\n",
       "         [0.92233   , 0.38456154, 0.30329156],\n",
       "         [0.03238845, 0.18773472, 0.9096625 ],\n",
       "         ...,\n",
       "         [0.4445815 , 0.04578841, 0.21090853],\n",
       "         [0.25966525, 0.24412918, 0.76123405],\n",
       "         [0.9643831 , 0.32687283, 0.4828869 ]]], dtype=float32)>,\n",
       " TensorShape([224, 224, 3]))"
      ]
     },
     "execution_count": 16,
     "metadata": {},
     "output_type": "execute_result"
    }
   ],
   "source": [
    "random_values = tf.random.uniform(shape = [224, 224 , 3 ], minval = 0 , maxval = 1 )\n",
    "random_values, random_values.shape"
   ]
  },
  {
   "cell_type": "code",
   "execution_count": 18,
   "metadata": {},
   "outputs": [
    {
     "data": {
      "text/plain": [
       "(<tf.Tensor: shape=(), dtype=float32, numpy=2.3841858e-07>,\n",
       " <tf.Tensor: shape=(), dtype=float32, numpy=0.9999918>)"
      ]
     },
     "execution_count": 18,
     "metadata": {},
     "output_type": "execute_result"
    }
   ],
   "source": [
    "tf.reduce_min(random_values), tf.reduce_max(random_values)"
   ]
  },
  {
   "cell_type": "code",
   "execution_count": 19,
   "metadata": {},
   "outputs": [
    {
     "data": {
      "text/plain": [
       "(<tf.Tensor: shape=(224, 224, 3), dtype=float32, numpy=\n",
       " array([[[7.4023080e-01, 3.3938193e-01, 5.6925058e-01],\n",
       "         [4.4811392e-01, 2.9285502e-01, 4.2600560e-01],\n",
       "         [6.2890387e-01, 6.9106102e-01, 3.0925727e-01],\n",
       "         ...,\n",
       "         [9.1063976e-04, 6.9863999e-01, 1.7180574e-01],\n",
       "         [6.7542684e-01, 8.3492923e-01, 3.9038682e-01],\n",
       "         [2.3664141e-01, 6.2239432e-01, 1.0117912e-01]],\n",
       " \n",
       "        [[9.7064960e-01, 5.4594779e-01, 7.6819682e-01],\n",
       "         [2.6893330e-01, 2.6959443e-01, 2.8982997e-01],\n",
       "         [2.9215467e-01, 1.7108858e-01, 6.5597153e-01],\n",
       "         ...,\n",
       "         [9.5621395e-01, 5.4591870e-01, 5.3843534e-01],\n",
       "         [9.8861516e-01, 1.5786767e-01, 6.1375093e-01],\n",
       "         [7.2668612e-01, 6.1637163e-03, 1.6534305e-01]],\n",
       " \n",
       "        [[6.4095867e-01, 7.6697862e-01, 3.0138540e-01],\n",
       "         [1.5474892e-01, 1.7183411e-01, 2.7192724e-01],\n",
       "         [3.1211805e-01, 6.1451709e-01, 4.3001354e-01],\n",
       "         ...,\n",
       "         [8.4168065e-01, 5.0247252e-01, 2.8834987e-01],\n",
       "         [3.3173549e-01, 4.5103800e-01, 6.7354202e-02],\n",
       "         [1.0118127e-01, 4.2389810e-01, 6.8379509e-01]],\n",
       " \n",
       "        ...,\n",
       " \n",
       "        [[1.8096626e-01, 8.5838544e-01, 3.4178734e-02],\n",
       "         [5.9386420e-01, 3.8502932e-01, 8.7150073e-01],\n",
       "         [1.0209656e-01, 3.7833798e-01, 1.1331165e-01],\n",
       "         ...,\n",
       "         [8.5692227e-01, 4.2525017e-01, 3.6130440e-01],\n",
       "         [5.2397156e-01, 1.3922489e-01, 2.2725856e-01],\n",
       "         [9.1044855e-01, 9.1889143e-02, 1.5898192e-01]],\n",
       " \n",
       "        [[6.5610647e-02, 1.5236783e-01, 7.9822493e-01],\n",
       "         [3.0753601e-01, 4.3507314e-01, 7.9526460e-01],\n",
       "         [8.3535135e-01, 3.8671303e-01, 4.4709980e-01],\n",
       "         ...,\n",
       "         [6.8944788e-01, 6.5163302e-01, 9.1498744e-01],\n",
       "         [3.2730651e-01, 4.3430209e-01, 8.7547708e-01],\n",
       "         [1.8118513e-01, 6.4113998e-01, 4.3338275e-01]],\n",
       " \n",
       "        [[4.1520441e-01, 1.7824161e-01, 9.2302203e-02],\n",
       "         [4.3809581e-01, 4.6262145e-01, 3.8647270e-01],\n",
       "         [4.6021819e-02, 7.6314330e-02, 3.2944894e-01],\n",
       "         ...,\n",
       "         [3.7793708e-01, 8.7314355e-01, 5.2063870e-01],\n",
       "         [7.3511279e-01, 7.9594767e-01, 8.2211494e-02],\n",
       "         [9.7483528e-01, 8.2736588e-01, 7.6870322e-01]]], dtype=float32)>,\n",
       " TensorShape([224, 224, 3]))"
      ]
     },
     "execution_count": 19,
     "metadata": {},
     "output_type": "execute_result"
    }
   ],
   "source": [
    "newtensor = tf.random.uniform(shape = [1,224,224,3])\n",
    "tf.squeeze(newtensor), tf.squeeze(newtensor).shape"
   ]
  },
  {
   "cell_type": "code",
   "execution_count": 20,
   "metadata": {},
   "outputs": [
    {
     "data": {
      "text/plain": [
       "<tf.Tensor: shape=(), dtype=int64, numpy=9>"
      ]
     },
     "execution_count": 20,
     "metadata": {},
     "output_type": "execute_result"
    }
   ],
   "source": [
    "infex = tf.constant([1,2,3,4,5,6,7,8,9,10])\n",
    "tf.argmax(infex)"
   ]
  },
  {
   "cell_type": "code",
   "execution_count": 21,
   "metadata": {},
   "outputs": [
    {
     "data": {
      "text/plain": [
       "<tf.Tensor: shape=(10, 10), dtype=float32, numpy=\n",
       "array([[0., 1., 0., 0., 0., 0., 0., 0., 0., 0.],\n",
       "       [0., 0., 1., 0., 0., 0., 0., 0., 0., 0.],\n",
       "       [0., 0., 0., 1., 0., 0., 0., 0., 0., 0.],\n",
       "       [0., 0., 0., 0., 1., 0., 0., 0., 0., 0.],\n",
       "       [0., 0., 0., 0., 0., 1., 0., 0., 0., 0.],\n",
       "       [0., 0., 0., 0., 0., 0., 1., 0., 0., 0.],\n",
       "       [0., 0., 0., 0., 0., 0., 0., 1., 0., 0.],\n",
       "       [0., 0., 0., 0., 0., 0., 0., 0., 1., 0.],\n",
       "       [0., 0., 0., 0., 0., 0., 0., 0., 0., 1.],\n",
       "       [0., 0., 0., 0., 0., 0., 0., 0., 0., 0.]], dtype=float32)>"
      ]
     },
     "execution_count": 21,
     "metadata": {},
     "output_type": "execute_result"
    }
   ],
   "source": [
    "tf.one_hot(infex, depth=10)"
   ]
  },
  {
   "cell_type": "code",
   "execution_count": null,
   "metadata": {},
   "outputs": [],
   "source": []
  },
  {
   "cell_type": "code",
   "execution_count": null,
   "metadata": {},
   "outputs": [],
   "source": []
  },
  {
   "cell_type": "code",
   "execution_count": null,
   "metadata": {},
   "outputs": [],
   "source": []
  }
 ],
 "metadata": {
  "kernelspec": {
   "display_name": "Python 3",
   "language": "python",
   "name": "python3"
  },
  "language_info": {
   "codemirror_mode": {
    "name": "ipython",
    "version": 3
   },
   "file_extension": ".py",
   "mimetype": "text/x-python",
   "name": "python",
   "nbconvert_exporter": "python",
   "pygments_lexer": "ipython3",
   "version": "3.10.9"
  },
  "orig_nbformat": 4
 },
 "nbformat": 4,
 "nbformat_minor": 2
}
